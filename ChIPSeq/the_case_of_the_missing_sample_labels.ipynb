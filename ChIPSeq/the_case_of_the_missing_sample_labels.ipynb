{
 "cells": [
  {
   "cell_type": "markdown",
   "metadata": {},
   "source": [
    "# ChIP-Seq Project: The Case of The Mixed-up Sample Labels \n",
    "\n",
    "## _Investigating Sequencing depth and Histone Methylation Marks_\n",
    "\n",
    "The following tasks have been adapted by Vivek Iyer and Victoria Offord from materials developed by Angela Goncalves, Myrto Kostadima, Steven Wilder and Maria Xenophontos."
   ]
  },
  {
   "cell_type": "markdown",
   "metadata": {},
   "source": [
    "# An experiment, some sequence ...\n",
    "\n",
    "You are your lab's only informatician this week. Late on a Friday afternoon, you receive a distressed call from your PI. Earlier this week, she received ENCODE sample GM12878 in the mail. She split the sample into three vials:\n",
    "\n",
    "* the first vial was used to do ChipSeq to detect H3k4me3. The sequence produced was called  \"H3k4me3.bam\" by the sequencing facility.\n",
    "* the second vial was used to do ChipSeq to detect H3k27me3. The sequence produced was called \"H3k27me3.bam\" by the sequencing facility.\n",
    "* the third vial was RNASeq'd to detect gene expression. The RNASeq pipeline produced sequence called \"genes.fpkm.txt\".\n",
    "\n",
    "Upon hearing of this experiment, your PI's funding agency called her up to ask for \n",
    "\n",
    "* the bam & expression files immediately. The correctly labelled files have to be delivered this afternoon.\n",
    "* an analysis of whether your experiment could be done with less sequencing, without affecting the results\n",
    "\n",
    "They want answers by the end of the day! Any delay will probably cost your PI her grant - and with it, your position."
   ]
  },
  {
   "cell_type": "markdown",
   "metadata": {},
   "source": [
    "# And then ... disaster\n",
    "\n",
    "You overheard your lab manager and your PI having a loud argument in her office this morning. Your lab manager then abruptly quit. This wasn't a surprise - they had been at loggerheads for months.\n",
    "\n",
    "The real surprise was that - just before quitting - he randomly re-assigned the labels of the H3k4me3 and H3k27me3 ChipSeq bam files, calling them \"v1.bam\" and \"v2.bam\". He then caught the next flight to Sydney. He'll be out of touch a while."
   ]
  },
  {
   "cell_type": "markdown",
   "metadata": {},
   "source": [
    "# The challenge\n",
    "\n",
    "Your lab have to deliver the sequence files to the funding agency in 2.5 hours, but you have no idea whether:\n",
    "* v1.bam = H3k4me3.bam and v2.bam = H3k27me3.bam\n",
    "\n",
    "**...OR...** \n",
    "\n",
    "* v1.bam = H3k27me3.bam and v2.bam = H3k4me3.bam\n",
    "\n",
    "AND\n",
    "\n",
    "* you haven't done the analysis of whether you can use less sequencing\n",
    "\n",
    "If you can't work all this out and deliver the correctly labelled sequence files, your lab's funding will be cut off, so a lot is riding on this analysis. Good luck!"
   ]
  },
  {
   "cell_type": "markdown",
   "metadata": {},
   "source": [
    "## Chromatin Environment"
   ]
  },
  {
   "cell_type": "markdown",
   "metadata": {},
   "source": [
    "The goal of this hands-on session is to investigate the chromatin environment around gene features and regulatory elements. We will be plotting where the different histone modifications occur in relation to genes."
   ]
  },
  {
   "cell_type": "markdown",
   "metadata": {},
   "source": [
    "### Data and software\n",
    "\n",
    "Your goal is to investigate the chromatin environment around gene features and regulatory elements. You will be plotting where the different histone modifications occur in relation to genes.\n",
    "\n",
    "Your lab investigated histone modifications from ENCODE sample GM12878. The BAM alignment files - after they were anonymised by the lab manager - have been labelled 'v1.bam' and 'v2.bam'. \n",
    "\n",
    "_(... ok, ok, in reality they were actually downloaded from http://www.encodeproject.org. All ENCODE experiments had at least 2 technical replicates, but we will only be using the first replicate for simplicity.)_\n",
    "\n",
    "You need to use **ngsplot** https://github.com/shenlab-sinai/ngsplot to visualise these datasets at transcription start sites and inside gene bodies. The ngsplot database for the human gene set has been generated from the Ensembl http://www.ensembl.org and RefSeq http://www.ncbi.nlm.nih.gov/refseq/ gene sets, by default using the Ensembl set."
   ]
  },
  {
   "cell_type": "code",
   "execution_count": null,
   "metadata": {},
   "outputs": [],
   "source": [
    "ngs.plot.r"
   ]
  },
  {
   "cell_type": "markdown",
   "metadata": {},
   "source": [
    "Further help on the ngsplot options can be found at https://github.com/shenlab-sinai/ngsplot/wiki/ProgramArguments101."
   ]
  },
  {
   "cell_type": "markdown",
   "metadata": {},
   "source": [
    "## Histone Marks ##\n",
    "\n",
    "The histone modifications we will be looking at today are all thought to play different roles in the regulation of gene expression and the putative functions. The ENCODE Project summary is in the picture below (Figure 1). \n",
    "\n",
    "The histone modifications are named by the histone tail (e.g. H3), location in the protein sequence (e.g. K27) and the biochemical modification (e.g. me3). For instance, H3K4me3 refers to the trimethylation of the lysine (K) in the fourth position in the protein sequence of histone 3 tail. \n",
    "\n",
    "Notice that although residues K,R,E,S,T and P could be modified by Acetylation, SUMOlyation etc, we will focus on two well-understood marks, H3k4me3 and H3k27me3.\n",
    "\n",
    "Can you spot H3k4me3 and H3k27me3 in Figure 2, as well as their putative functions? You can check this against the first sections of these articles: https://en.wikipedia.org/wiki/H3K4me3 and https://en.wikipedia.org/wiki/H3K27me3. "
   ]
  },
  {
   "cell_type": "markdown",
   "metadata": {},
   "source": [
    "![figure 1](images/figure1.png)"
   ]
  },
  {
   "cell_type": "markdown",
   "metadata": {},
   "source": [
    "_Figure 1: The histone modifications are named by the histone tail, location in the protein sequence and the biochemical modification, e.g. H3K4me3, refers to the trimethylation of the lysine (K) in the fourth position in the protein sequence of histone 3 tail._"
   ]
  },
  {
   "cell_type": "markdown",
   "metadata": {
    "collapsed": true
   },
   "source": [
    "![figure 2](images/figure2.png)"
   ]
  },
  {
   "cell_type": "markdown",
   "metadata": {},
   "source": [
    "_Figure 2: A summary of the putative functions of various histone marks, according to the ENCODE Project._"
   ]
  },
  {
   "cell_type": "markdown",
   "metadata": {},
   "source": [
    "### Your strategy to fill in the missing labels ###"
   ]
  },
  {
   "cell_type": "markdown",
   "metadata": {},
   "source": [
    "**Question1:** Based on the figures and web pages above, fill in these sentences:\n",
    "\n",
    "* H3K4me3 is a ______ mark, typically associated with the ______ of genes. \n",
    "* H3k27me3 is a ______ mark, associated with the ______ of genes.\n",
    "\n",
    "You have two sequence files: v1.bam and v2.bam. If you could establish \n",
    "the location of the peaks of v1.bam and v2.bam independently high-expressed \n",
    "and low-expressed genes you could compare with these expectations,and so \n",
    "identify the labels. \n",
    "\n",
    "_This is where ngs.plot.r comes in._ **ngs.plot.r is not a ChipSEQ peak-finder like macs2**. Rather, \n",
    "* it 'collapses' together all the genomic segments around sets of genes in a standardised way\n",
    "* it indicates how many reads are 'piled up' on the standardised genomic segment\n",
    "\n",
    "The result is an indication of how much _sequence_ is piled up on average at the TSS \n",
    "and in gene bodies, either for all genes, or for subsets of genes. We can use\n",
    "these indications to _infer_ where the actual ChipSeq peaks are concentrated."
   ]
  },
  {
   "cell_type": "markdown",
   "metadata": {},
   "source": [
    "### Test run: Transcription Start Sites for v2.bam"
   ]
  },
  {
   "cell_type": "markdown",
   "metadata": {},
   "source": [
    "Let's give this a go! We will start by looking at the genome-wide profiles for _one_ of our histone marks, just around the TSS, for every gene in the genome."
   ]
  },
  {
   "cell_type": "markdown",
   "metadata": {},
   "source": [
    "**Plot the distribution of v2.bam reads around protein-coding gene TSS (this may take a few minutes to run).**"
   ]
  },
  {
   "cell_type": "code",
   "execution_count": null,
   "metadata": {
    "collapsed": true
   },
   "outputs": [],
   "source": [
    "ngs.plot.r -G hg19 -O v2.tss -FL 150 -R tss \\\n",
    "-C v2.bam -T v2"
   ]
  },
  {
   "cell_type": "markdown",
   "metadata": {},
   "source": [
    "**Question2:** You can now view the v2 aggregation plots and heatmaps in your folder. Look at the picture v2.tss.avgprof.pdf. Where does the majority of the v2 signal appear in relation to TSS?\n",
    "\n",
    "**Question3:** Look at v2.tss.heatmap.pdf. This heatmap shows the read-count size \n",
    "(heatmap colour) for every gene (y-axis), where the x-axis is the location relative to the TSS. Is the average profile you see in v2.tss.avgprof.pdf actually the case for _every_ gene? If not, roughly what proportion of genes display this pattern?\n"
   ]
  },
  {
   "cell_type": "markdown",
   "metadata": {},
   "source": [
    "**Modify this analysis to plot read distribution around genebody, taking control into account.**\n",
    "\n",
    "ngsplot also enables you to correct the ChIP sample using the control sample. This aims to correct for any genome biases in alignability, GC content etc. Further, ngsplot will show the averaged read distribution around _gene bodies_ where all genes have been mapped onto a standard genomic interval.\n",
    "\n",
    "**Let's give this a try for v2.bam**"
   ]
  },
  {
   "cell_type": "code",
   "execution_count": null,
   "metadata": {},
   "outputs": [],
   "source": [
    "ngs.plot.r -G hg19 -O v2.control.genebody -FL 150 -R genebody \\\n",
    "-C v2.bam:Control.bam -T v2:control"
   ]
  },
  {
   "cell_type": "markdown",
   "metadata": {},
   "source": [
    "### Gene Expression\n",
    "\n",
    "You will now use RNA-seq data form the same cell type results to separate all of the Ensembl genes into three categories, based on the expression (FPKM values) of the genes. The file containing the FPKMs for GM12878 whole cell RNA-seq is called `genes.fpkm_tracking`. These FPKM values have been computed by Cufflinks.\n",
    "\n",
    "**Read the first few lines of the GM12878 whole cell genes.fpkm_tracking file.**"
   ]
  },
  {
   "cell_type": "code",
   "execution_count": null,
   "metadata": {
    "collapsed": true
   },
   "outputs": [],
   "source": [
    "head -n 10 genes.fpkm_tracking"
   ]
  },
  {
   "cell_type": "markdown",
   "metadata": {},
   "source": [
    "**Remove the header line.**"
   ]
  },
  {
   "cell_type": "code",
   "execution_count": null,
   "metadata": {
    "collapsed": true
   },
   "outputs": [],
   "source": [
    "sed '1d' genes.fpkm_tracking > genes.fpkm.txt"
   ]
  },
  {
   "cell_type": "markdown",
   "metadata": {},
   "source": [
    "**Sort the genes by FPKM score.**"
   ]
  },
  {
   "cell_type": "code",
   "execution_count": null,
   "metadata": {
    "collapsed": true
   },
   "outputs": [],
   "source": [
    "sort -k10 -n -r genes.fpkm.txt > genes.fpkm.sorted.txt"
   ]
  },
  {
   "cell_type": "markdown",
   "metadata": {},
   "source": [
    "**Count the number of genes.**"
   ]
  },
  {
   "cell_type": "code",
   "execution_count": null,
   "metadata": {
    "collapsed": true
   },
   "outputs": [],
   "source": [
    "wc -l genes.fpkm.sorted.txt"
   ]
  },
  {
   "cell_type": "markdown",
   "metadata": {},
   "source": [
    "**Use `head`, `sed` and `awk` to pull out the Highest, Lowest and Intermediate expression genes.**"
   ]
  },
  {
   "cell_type": "code",
   "execution_count": null,
   "metadata": {
    "collapsed": true
   },
   "outputs": [],
   "source": [
    "head -n 5000 genes.fpkm.sorted.txt | \\\n",
    "awk '{print $1}' > high_expressed_genes.txt"
   ]
  },
  {
   "cell_type": "code",
   "execution_count": null,
   "metadata": {
    "collapsed": true
   },
   "outputs": [],
   "source": [
    "awk '{ if($10 ==0) {print $1} }' \\\n",
    "genes.fpkm.sorted.txt > low_expressed_genes.txt"
   ]
  },
  {
   "cell_type": "code",
   "execution_count": null,
   "metadata": {
    "collapsed": true
   },
   "outputs": [],
   "source": [
    "sed -n '10001,15000p' genes.fpkm.sorted.txt | \\\n",
    "awk '{print $1}' > mid_expressed_genes.txt"
   ]
  },
  {
   "cell_type": "markdown",
   "metadata": {},
   "source": [
    "**Create a tab-delimited configuration file, \"expression_v2.txt\", in a text editor: it should contain the following lines:**"
   ]
  },
  {
   "cell_type": "markdown",
   "metadata": {},
   "source": [
    "    |--------------|--------------------------|--------|\n",
    "    | v2.bam       | high_expressed_genes.txt | \"High\" |\n",
    "    | v2.bam       | mid_expressed_genes.txt  | \"Med\"  |\n",
    "    | v2.bam       | low_expressed_genes.txt  | \"Low\"  |"
   ]
  },
  {
   "cell_type": "markdown",
   "metadata": {},
   "source": [
    "**Then run the following command to plot the average read depth etc for these three groups of genes, in the same plot:**"
   ]
  },
  {
   "cell_type": "code",
   "execution_count": null,
   "metadata": {
    "collapsed": true
   },
   "outputs": [],
   "source": [
    "ngs.plot.r -G hg19 -R genebody -C expression_v2.txt \\\n",
    "-O v2.express.genebody -D ensembl \\\n",
    "-FL 300 -T v2.expression"
   ]
  },
  {
   "cell_type": "markdown",
   "metadata": {},
   "source": [
    "**Question 4: What patterns can you see for the read depths for the different gene groups?**\n",
    "\n",
    "Notice that the average read-level level for v2.bam over the gene body is quite different for those genes which are known to be highly expressed (as measured by RNASeq) in the sample, compared to those mid- or low-expressed. "
   ]
  },
  {
   "cell_type": "markdown",
   "metadata": {},
   "source": [
    "# Read depth profile vs. Gene expression for v1.bam\n",
    "\n",
    "Repeat the same read-depth analysis for v1.bam: your goal is to see the differences in read-depth profile for the experiment in v1.bam, for high- mid- and low-expressed genes. First, create a file \"expression_v1.txt\" by copying \"expression_v2.txt\" and modifying it, altering \"v2\" to \"v1\""
   ]
  },
  {
   "cell_type": "code",
   "execution_count": null,
   "metadata": {},
   "outputs": [],
   "source": [
    "cp expression_v2.txt expression_v1.txt\n",
    "\n",
    "# manually edit expression_v1.txt to alter 'v2' to 'v1'"
   ]
  },
  {
   "cell_type": "markdown",
   "metadata": {},
   "source": [
    "Now run ngs.plot.r to find read depth profiles for v1.bam, for different gene expression groups:"
   ]
  },
  {
   "cell_type": "code",
   "execution_count": null,
   "metadata": {},
   "outputs": [],
   "source": [
    "ngs.plot.r -G hg19 -R genebody -C expression_v1.txt \\\n",
    "-O v1.express.genebody -D ensembl \\\n",
    "-FL 300 -T v1.expression"
   ]
  },
  {
   "cell_type": "markdown",
   "metadata": {},
   "source": [
    "# Look at your data and form a conclusion\n",
    "\n",
    "You now have two read-depth vs gene-expression profiles: \n",
    "\n",
    "* v1.express.genebody.R.pdf\n",
    "* v2.express.genebody.R.pdf\n",
    "\n",
    "### Question 5: which of these has high read-depths in high-expressed genes?\n",
    "### Question 6: which of these has high read-depths in low-expressed genes?\n",
    "### Question 7: by comparing these patterns to what you know about H3k4me3 and H3k27me3 modifications, can you conclude whether v1.bam is actually H3k4me3 or H3k27me3?"
   ]
  },
  {
   "cell_type": "markdown",
   "metadata": {},
   "source": [
    "## Sequencing depth"
   ]
  },
  {
   "cell_type": "markdown",
   "metadata": {},
   "source": [
    "One of the most frequent questions that come up in ChIP-seq experiments is whether the sequencing depth is sufficient.\n",
    "\n",
    "The more we sequence a ChIP-seq library, the more peaks of low fold change we will identify. Therefore, the only way to answer that question is to look for the number of peaks identified when we down sample our library. To test for sufficient sequencing depth in our sample we will down sample our ChIP and Control datasets to 10%, 20%, .., 90% of the initial library size and call peaks. To do so, we will use the functions **randsample** and **callpeak** from macs2, respectively.\n",
    "\n",
    "**First, go to the group_projects folder.**"
   ]
  },
  {
   "cell_type": "code",
   "execution_count": null,
   "metadata": {
    "collapsed": true
   },
   "outputs": [],
   "source": [
    "cd /home/manager/course_data/group_projects"
   ]
  },
  {
   "cell_type": "markdown",
   "metadata": {},
   "source": [
    "**Check to see if the ChIPSeq-Project1 folder exists.**"
   ]
  },
  {
   "cell_type": "code",
   "execution_count": null,
   "metadata": {
    "collapsed": true
   },
   "outputs": [],
   "source": [
    "ls ChIPSeq-Project1"
   ]
  },
  {
   "cell_type": "markdown",
   "metadata": {},
   "source": [
    "**If this folder doesn't exist, please check with your course instructor.**"
   ]
  },
  {
   "cell_type": "markdown",
   "metadata": {},
   "source": [
    "**Once you have the data, go into the ChIPSeq-Project1 directory.**"
   ]
  },
  {
   "cell_type": "code",
   "execution_count": null,
   "metadata": {
    "collapsed": true
   },
   "outputs": [],
   "source": [
    "cd ChIPSeq-Project1"
   ]
  },
  {
   "cell_type": "markdown",
   "metadata": {},
   "source": [
    "Below are a series of commands which will downsample the ChIP and Control datasets to 10%, 20%, .., 90% of the initial library size and call peaks. To do this we use a while loop which will start counting from 10 (`i=10`), in intervals of 10 (e.g. 10, 20, 30...) (`((i = i + 10))`) up to 100 (`$i -lt 100`). The value which is being counted is stored in a variable called `i` that is then referenced in other commands using `$i`. Finally, to make sure we know where we are in the loop, we will print a message in the terminal `echo \"Looking at ${i}% of the reads\"`.\n",
    "\n",
    "The command we are using to downsample the ChIP and Control datasets reads is `macs2 randsample` which we will be giving an input file `-t`, a percentage `-p`, an output file `-o`, an output directory `--outdir` and the format of the input file `-f`.\n",
    "\n",
    "**Look at the usage for `macs2 randsample`.**"
   ]
  },
  {
   "cell_type": "code",
   "execution_count": null,
   "metadata": {
    "collapsed": true
   },
   "outputs": [],
   "source": [
    "macs2 randsample -h"
   ]
  },
  {
   "cell_type": "markdown",
   "metadata": {},
   "source": [
    "We then call the peaks for each set of downsampled reads using `macs2 callpeak` in a similar way to the ChIP-Seq tutorial.\n",
    "\n",
    "**Type the commands below into a file called `project1.sh`.**"
   ]
  },
  {
   "cell_type": "code",
   "execution_count": null,
   "metadata": {
    "collapsed": true
   },
   "outputs": [],
   "source": [
    "i=10\n",
    "\n",
    "while [[ $i -lt 100 ]]\n",
    "do\n",
    "\n",
    "echo \"Looking at ${i}% of the reads\"\n",
    "\n",
    "macs2 randsample -t PAX5.bam -p $i -o PAX5.perc${i}.bed \\\n",
    "--outdir macs2_downsample -f BAM\n",
    "\n",
    "macs2 randsample -t Control.bam -p $i -o Control.perc${i}.bed \\\n",
    "--outdir macs2_downsample -f BAM\n",
    "\n",
    "macs2 callpeak -t macs2_downsample/PAX5.perc${i}.bed \\\n",
    "-c macs2_downsample/Control.perc${i}.bed --gsize 138000000 \\\n",
    "--format BED --name macs2_downsample/PAX5.perc${i} \\\n",
    "--pvalue 1e-3 --call-summits\n",
    "\n",
    "((i = i + 10))\n",
    "\n",
    "done"
   ]
  },
  {
   "cell_type": "markdown",
   "metadata": {},
   "source": [
    "**Now, make your script executable.**"
   ]
  },
  {
   "cell_type": "code",
   "execution_count": null,
   "metadata": {
    "collapsed": true
   },
   "outputs": [],
   "source": [
    "chmod u+x project1.sh"
   ]
  },
  {
   "cell_type": "markdown",
   "metadata": {},
   "source": [
    "**And run the script.**"
   ]
  },
  {
   "cell_type": "code",
   "execution_count": null,
   "metadata": {
    "collapsed": true
   },
   "outputs": [],
   "source": [
    "./project1.sh"
   ]
  },
  {
   "cell_type": "markdown",
   "metadata": {},
   "source": [
    "Next, we want to plot the number of peaks called in each of the downsampled datasets. To do this we will use `R`.  First we tell R where to find our output files using `setwd`. We then use a for loop to extract only the peaks whose overall enrichment meets a threshold value (`fc.thres <- 4` and `peaks <- peaks[peaks[, 7] > fc.thres, ]`). We then count those peaks (`no.peaks <- c(no.peaks, nrow(peaks))`). Finally, we plot the number of peaks vs the percentage, saving the output to `peaks_vs_percentage.jpg`."
   ]
  },
  {
   "cell_type": "markdown",
   "metadata": {},
   "source": [
    "**Type the following commands into a file called `script.R`.**"
   ]
  },
  {
   "cell_type": "code",
   "execution_count": null,
   "metadata": {
    "collapsed": true
   },
   "outputs": [],
   "source": [
    "rm(list = ls())\n",
    "\n",
    "options(stringsAsFactors=F)\n",
    "setwd( \"/home/manager/course_data/group_projects/ChIPSeq-Project1\" )\n",
    "\n",
    "fc.thres <- 4\n",
    "\n",
    "no.peaks <- c()\n",
    "for(row in seq(from=10, to = 90, by = 10))\n",
    "{\n",
    "\tprint(row)\n",
    "    \n",
    "\tpeaks <- read.table(paste(\"macs2_downsample/PAX5.perc\", \n",
    "    row, \"_peaks.narrowPeak\", sep=\"\"))\n",
    "    \n",
    "\tpeaks <- peaks[peaks[, 7] > fc.thres, ]\n",
    "\n",
    "\tno.peaks <- c(no.peaks, nrow(peaks))\n",
    "}\n",
    "\n",
    "peaks <- read.table(\"PAX5_peaks.narrowPeak\")\n",
    "peaks <- peaks[peaks[, 7] > fc.thres, ]\n",
    "no.peaks <- c(no.peaks, nrow(peaks))\n",
    "\n",
    "\n",
    "jpeg('peaks_vs_percentage.jpg')\n",
    "\n",
    "plot(seq(from=10, to = 100, by = 10), no.peaks, \n",
    "type=\"o\", col=\"blue\", xlab=\"Percentage of reads\", ylab=\"Number of peaks\")\n",
    "\n",
    "dev.off()"
   ]
  },
  {
   "cell_type": "markdown",
   "metadata": {},
   "source": [
    "**Use `Rscript` to run your R script.**"
   ]
  },
  {
   "cell_type": "code",
   "execution_count": null,
   "metadata": {
    "collapsed": true
   },
   "outputs": [],
   "source": [
    "Rscript script.R"
   ]
  },
  {
   "cell_type": "markdown",
   "metadata": {},
   "source": [
    "**Let's take a look at the plot.**"
   ]
  },
  {
   "cell_type": "code",
   "execution_count": null,
   "metadata": {
    "collapsed": true
   },
   "outputs": [],
   "source": [
    "eog peaks_vs_percentage.jpg"
   ]
  },
  {
   "cell_type": "markdown",
   "metadata": {},
   "source": [
    "**Q1: Do you think that we have sequenced enough?**"
   ]
  },
  {
   "cell_type": "markdown",
   "metadata": {},
   "source": [
    "Close the file when you have finished looking at the plot."
   ]
  }
 ],
 "metadata": {
  "anaconda-cloud": {},
  "kernelspec": {
   "display_name": "Bash",
   "language": "bash",
   "name": "bash"
  },
  "language_info": {
   "codemirror_mode": "shell",
   "file_extension": ".sh",
   "mimetype": "text/x-sh",
   "name": "bash"
  }
 },
 "nbformat": 4,
 "nbformat_minor": 2
}
